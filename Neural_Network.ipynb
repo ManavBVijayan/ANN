{
 "cells": [
  {
   "cell_type": "code",
   "execution_count": 1,
   "id": "f93391fe-c6f1-4b87-95ee-c8d6a0dbdd28",
   "metadata": {},
   "outputs": [],
   "source": [
    "import numpy as np"
   ]
  },
  {
   "cell_type": "code",
   "execution_count": 2,
   "id": "2292487f-42da-4007-86f3-df3e4c2d02a2",
   "metadata": {},
   "outputs": [],
   "source": [
    "class NeuralNetwork:\n",
    "    def __init__(self,input_size,hidden_size,output_size):\n",
    "        self.input_size=input_size\n",
    "        self.hidden_size=hidden_size\n",
    "        self.output_size=output_size\n",
    "\n",
    "        self.w1=np.random.randn(self.input_size,self.hidden_size)\n",
    "        self.b1=np.zeros((1,self.hidden_size))\n",
    "        self.w2=np.random.randn(self.hidden_size,self.output_size)\n",
    "        self.b2=np.zeros((1,self.output_size))\n",
    "\n",
    "    def sigmoid(self,x):\n",
    "        return 1/(1+np.exp(-x))\n",
    "\n",
    "    def sigmoid_derivative(self,x):\n",
    "        return x*(1-x)\n",
    "\n",
    "    def forward(self,x):\n",
    "        self.hidden_ouput=self.sigmoid(np.dot(x,self.w1)+self.b1)\n",
    "\n",
    "        self.output=self.sigmoid(np.dot(self.hidden_ouput,self.w2)+self.b2)\n",
    "        return self.output\n",
    "\n",
    "    def backward(self,x,y,learning_rate):\n",
    "        d_output=(y-self.output)*self.sigmoid_derivative(self.output)\n",
    "        d_w2=np.dot(self.hidden_ouput.T,d_output)\n",
    "        d_b2=np.sum(d_output,axis=0,keepdims=True)\n",
    "\n",
    "        d_hidden=np.dot(d_output,self.w2.T)*self.sigmoid_derivative(self.hidden_ouput)\n",
    "        d_w1=np.dot(x.T,d_hidden)\n",
    "        d_b1=np.sum(d_hidden,axis=0,keepdims=True)\n",
    "\n",
    "        self.w2+=learning_rate*d_w2\n",
    "        self.b2+=learning_rate*d_b2\n",
    "        self.w1+=learning_rate*d_w1\n",
    "        self.b1+=learning_rate*d_b1\n",
    "\n",
    "\n",
    "    def train(self,X,y,epochs,learning_rate):\n",
    "        for epoch in range(epochs):\n",
    "            output=self.forward(X)\n",
    "\n",
    "            self.backward(X,y,learning_rate)\n",
    "\n",
    "            loss=np.mean((y-output)**2)\n",
    "\n",
    "    def predict(self,X):\n",
    "        return self.forward(X)"
   ]
  },
  {
   "cell_type": "code",
   "execution_count": 3,
   "id": "38512e4a-c98d-4502-9345-c7a4df13b833",
   "metadata": {},
   "outputs": [],
   "source": [
    "X = np.array([[0, 0], [0, 1], [1, 0], [1, 1]])\n",
    "y = np.array([[0], [1], [1], [0]])"
   ]
  },
  {
   "cell_type": "code",
   "execution_count": 4,
   "id": "498184d3-2fc5-47ee-b94f-53847a597aa7",
   "metadata": {},
   "outputs": [],
   "source": [
    "nn=NeuralNetwork(input_size=2,hidden_size=4,output_size=1)"
   ]
  },
  {
   "cell_type": "code",
   "execution_count": 9,
   "id": "41afd576-5a87-4978-aa73-2e43aafd23ca",
   "metadata": {},
   "outputs": [],
   "source": [
    "nn.train(X,y,epochs=2000,learning_rate=0.1)"
   ]
  },
  {
   "cell_type": "code",
   "execution_count": 10,
   "id": "9669a14b-3a78-4742-a50b-f7eaf309af6f",
   "metadata": {},
   "outputs": [
    {
     "name": "stdout",
     "output_type": "stream",
     "text": [
      "Predictions:\n",
      "[[0.4591459 ]\n",
      " [0.57582391]\n",
      " [0.50425057]\n",
      " [0.46590284]]\n"
     ]
    }
   ],
   "source": [
    "predictions = nn.predict(X)\n",
    "print(\"Predictions:\")\n",
    "print(predictions)"
   ]
  }
 ],
 "metadata": {
  "kernelspec": {
   "display_name": "Python 3 (ipykernel)",
   "language": "python",
   "name": "python3"
  },
  "language_info": {
   "codemirror_mode": {
    "name": "ipython",
    "version": 3
   },
   "file_extension": ".py",
   "mimetype": "text/x-python",
   "name": "python",
   "nbconvert_exporter": "python",
   "pygments_lexer": "ipython3",
   "version": "3.10.9"
  }
 },
 "nbformat": 4,
 "nbformat_minor": 5
}
