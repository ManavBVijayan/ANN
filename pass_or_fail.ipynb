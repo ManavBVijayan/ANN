{
 "cells": [
  {
   "cell_type": "code",
   "execution_count": 1,
   "id": "7de478d1-d735-4072-8faa-5fd4553c5b4c",
   "metadata": {},
   "outputs": [
    {
     "name": "stdout",
     "output_type": "stream",
     "text": [
      "WARNING:tensorflow:From F:\\DATA SCIENCE\\myenv\\lib\\site-packages\\keras\\src\\losses.py:2976: The name tf.losses.sparse_softmax_cross_entropy is deprecated. Please use tf.compat.v1.losses.sparse_softmax_cross_entropy instead.\n",
      "\n"
     ]
    }
   ],
   "source": [
    "import tensorflow as tf"
   ]
  },
  {
   "cell_type": "code",
   "execution_count": 2,
   "id": "6197a652-760b-43b3-8539-662ef425835d",
   "metadata": {},
   "outputs": [],
   "source": [
    "from tensorflow import keras\n",
    "import numpy as np"
   ]
  },
  {
   "cell_type": "code",
   "execution_count": 3,
   "id": "639a54d1-433b-42f3-8210-5590fa671dff",
   "metadata": {},
   "outputs": [],
   "source": [
    "np.random.seed(42)\n",
    "hours_studied = np.random.rand(100, 1) * 10  # Random values between 0 and 10\n",
    "pass_fail = (hours_studied > 5).astype(int)"
   ]
  },
  {
   "cell_type": "code",
   "execution_count": 4,
   "id": "eafe1416-610b-4e9b-aefe-cdbcbb6d9847",
   "metadata": {},
   "outputs": [
    {
     "data": {
      "text/plain": [
       "array([[3.74540119],\n",
       "       [9.50714306],\n",
       "       [7.31993942],\n",
       "       [5.98658484],\n",
       "       [1.5601864 ],\n",
       "       [1.5599452 ],\n",
       "       [0.58083612],\n",
       "       [8.66176146],\n",
       "       [6.01115012],\n",
       "       [7.08072578],\n",
       "       [0.20584494],\n",
       "       [9.69909852],\n",
       "       [8.32442641],\n",
       "       [2.12339111],\n",
       "       [1.81824967],\n",
       "       [1.8340451 ],\n",
       "       [3.04242243],\n",
       "       [5.24756432],\n",
       "       [4.31945019],\n",
       "       [2.9122914 ],\n",
       "       [6.11852895],\n",
       "       [1.39493861],\n",
       "       [2.92144649],\n",
       "       [3.66361843],\n",
       "       [4.56069984],\n",
       "       [7.85175961],\n",
       "       [1.99673782],\n",
       "       [5.14234438],\n",
       "       [5.92414569],\n",
       "       [0.46450413],\n",
       "       [6.07544852],\n",
       "       [1.70524124],\n",
       "       [0.65051593],\n",
       "       [9.48885537],\n",
       "       [9.65632033],\n",
       "       [8.08397348],\n",
       "       [3.04613769],\n",
       "       [0.97672114],\n",
       "       [6.84233027],\n",
       "       [4.40152494],\n",
       "       [1.22038235],\n",
       "       [4.9517691 ],\n",
       "       [0.34388521],\n",
       "       [9.09320402],\n",
       "       [2.58779982],\n",
       "       [6.62522284],\n",
       "       [3.11711076],\n",
       "       [5.20068021],\n",
       "       [5.46710279],\n",
       "       [1.84854456],\n",
       "       [9.69584628],\n",
       "       [7.75132823],\n",
       "       [9.39498942],\n",
       "       [8.9482735 ],\n",
       "       [5.97899979],\n",
       "       [9.21874235],\n",
       "       [0.88492502],\n",
       "       [1.95982862],\n",
       "       [0.45227289],\n",
       "       [3.25330331],\n",
       "       [3.8867729 ],\n",
       "       [2.71349032],\n",
       "       [8.28737509],\n",
       "       [3.56753327],\n",
       "       [2.8093451 ],\n",
       "       [5.42696083],\n",
       "       [1.40924225],\n",
       "       [8.02196981],\n",
       "       [0.74550644],\n",
       "       [9.86886937],\n",
       "       [7.72244769],\n",
       "       [1.98715682],\n",
       "       [0.05522117],\n",
       "       [8.15461428],\n",
       "       [7.06857344],\n",
       "       [7.29007168],\n",
       "       [7.71270347],\n",
       "       [0.74044652],\n",
       "       [3.58465729],\n",
       "       [1.1586906 ],\n",
       "       [8.63103426],\n",
       "       [6.23298127],\n",
       "       [3.30898025],\n",
       "       [0.6355835 ],\n",
       "       [3.10982322],\n",
       "       [3.25183322],\n",
       "       [7.29606178],\n",
       "       [6.37557471],\n",
       "       [8.87212743],\n",
       "       [4.72214925],\n",
       "       [1.19594246],\n",
       "       [7.13244787],\n",
       "       [7.60785049],\n",
       "       [5.61277198],\n",
       "       [7.7096718 ],\n",
       "       [4.93795596],\n",
       "       [5.22732829],\n",
       "       [4.27541018],\n",
       "       [0.25419127],\n",
       "       [1.07891427]])"
      ]
     },
     "execution_count": 4,
     "metadata": {},
     "output_type": "execute_result"
    }
   ],
   "source": [
    "hours_studied"
   ]
  },
  {
   "cell_type": "code",
   "execution_count": 5,
   "id": "503804bb-d4d0-4a7c-af2c-9ba50bc83688",
   "metadata": {},
   "outputs": [
    {
     "name": "stdout",
     "output_type": "stream",
     "text": [
      "WARNING:tensorflow:From F:\\DATA SCIENCE\\myenv\\lib\\site-packages\\keras\\src\\backend.py:873: The name tf.get_default_graph is deprecated. Please use tf.compat.v1.get_default_graph instead.\n",
      "\n"
     ]
    }
   ],
   "source": [
    "model = keras.Sequential([\n",
    "    keras.layers.Dense(1, input_shape=(1,), activation='sigmoid')\n",
    "])"
   ]
  },
  {
   "cell_type": "code",
   "execution_count": 6,
   "id": "f4041ccd-2f92-478e-ab5e-76a997c9c08d",
   "metadata": {},
   "outputs": [
    {
     "name": "stdout",
     "output_type": "stream",
     "text": [
      "WARNING:tensorflow:From F:\\DATA SCIENCE\\myenv\\lib\\site-packages\\keras\\src\\optimizers\\__init__.py:309: The name tf.train.Optimizer is deprecated. Please use tf.compat.v1.train.Optimizer instead.\n",
      "\n"
     ]
    }
   ],
   "source": [
    "model.compile(optimizer='adam',\n",
    "              loss='binary_crossentropy',\n",
    "              metrics=['accuracy'])"
   ]
  },
  {
   "cell_type": "code",
   "execution_count": 7,
   "id": "576ea6ab-51e5-41f8-aa0a-41796f086c1f",
   "metadata": {},
   "outputs": [
    {
     "name": "stdout",
     "output_type": "stream",
     "text": [
      "Epoch 1/50\n",
      "WARNING:tensorflow:From F:\\DATA SCIENCE\\myenv\\lib\\site-packages\\keras\\src\\utils\\tf_utils.py:492: The name tf.ragged.RaggedTensorValue is deprecated. Please use tf.compat.v1.ragged.RaggedTensorValue instead.\n",
      "\n",
      "WARNING:tensorflow:From F:\\DATA SCIENCE\\myenv\\lib\\site-packages\\keras\\src\\engine\\base_layer_utils.py:384: The name tf.executing_eagerly_outside_functions is deprecated. Please use tf.compat.v1.executing_eagerly_outside_functions instead.\n",
      "\n",
      "10/10 [==============================] - 1s 2ms/step - loss: 0.6119 - accuracy: 0.4700\n",
      "Epoch 2/50\n",
      "10/10 [==============================] - 0s 2ms/step - loss: 0.6076 - accuracy: 0.4700\n",
      "Epoch 3/50\n",
      "10/10 [==============================] - 0s 1ms/step - loss: 0.6036 - accuracy: 0.4800\n",
      "Epoch 4/50\n",
      "10/10 [==============================] - 0s 2ms/step - loss: 0.6008 - accuracy: 0.4800\n",
      "Epoch 5/50\n",
      "10/10 [==============================] - 0s 2ms/step - loss: 0.5968 - accuracy: 0.4800\n",
      "Epoch 6/50\n",
      "10/10 [==============================] - 0s 2ms/step - loss: 0.5942 - accuracy: 0.4900\n",
      "Epoch 7/50\n",
      "10/10 [==============================] - 0s 1ms/step - loss: 0.5915 - accuracy: 0.5000\n",
      "Epoch 8/50\n",
      "10/10 [==============================] - 0s 2ms/step - loss: 0.5894 - accuracy: 0.5000\n",
      "Epoch 9/50\n",
      "10/10 [==============================] - 0s 1ms/step - loss: 0.5869 - accuracy: 0.5100\n",
      "Epoch 10/50\n",
      "10/10 [==============================] - 0s 2ms/step - loss: 0.5850 - accuracy: 0.5100\n",
      "Epoch 11/50\n",
      "10/10 [==============================] - 0s 3ms/step - loss: 0.5828 - accuracy: 0.5200\n",
      "Epoch 12/50\n",
      "10/10 [==============================] - 0s 2ms/step - loss: 0.5810 - accuracy: 0.5300\n",
      "Epoch 13/50\n",
      "10/10 [==============================] - 0s 2ms/step - loss: 0.5791 - accuracy: 0.5300\n",
      "Epoch 14/50\n",
      "10/10 [==============================] - 0s 2ms/step - loss: 0.5775 - accuracy: 0.5400\n",
      "Epoch 15/50\n",
      "10/10 [==============================] - 0s 1ms/step - loss: 0.5757 - accuracy: 0.5500\n",
      "Epoch 16/50\n",
      "10/10 [==============================] - 0s 2ms/step - loss: 0.5741 - accuracy: 0.5600\n",
      "Epoch 17/50\n",
      "10/10 [==============================] - 0s 2ms/step - loss: 0.5724 - accuracy: 0.5600\n",
      "Epoch 18/50\n",
      "10/10 [==============================] - 0s 2ms/step - loss: 0.5709 - accuracy: 0.5800\n",
      "Epoch 19/50\n",
      "10/10 [==============================] - 0s 1ms/step - loss: 0.5692 - accuracy: 0.5800\n",
      "Epoch 20/50\n",
      "10/10 [==============================] - 0s 2ms/step - loss: 0.5682 - accuracy: 0.5800\n",
      "Epoch 21/50\n",
      "10/10 [==============================] - 0s 2ms/step - loss: 0.5661 - accuracy: 0.5900\n",
      "Epoch 22/50\n",
      "10/10 [==============================] - 0s 1ms/step - loss: 0.5647 - accuracy: 0.5900\n",
      "Epoch 23/50\n",
      "10/10 [==============================] - 0s 2ms/step - loss: 0.5632 - accuracy: 0.5900\n",
      "Epoch 24/50\n",
      "10/10 [==============================] - 0s 1ms/step - loss: 0.5615 - accuracy: 0.6000\n",
      "Epoch 25/50\n",
      "10/10 [==============================] - 0s 2ms/step - loss: 0.5600 - accuracy: 0.6000\n",
      "Epoch 26/50\n",
      "10/10 [==============================] - 0s 2ms/step - loss: 0.5585 - accuracy: 0.6100\n",
      "Epoch 27/50\n",
      "10/10 [==============================] - 0s 2ms/step - loss: 0.5570 - accuracy: 0.6100\n",
      "Epoch 28/50\n",
      "10/10 [==============================] - 0s 2ms/step - loss: 0.5556 - accuracy: 0.6100\n",
      "Epoch 29/50\n",
      "10/10 [==============================] - 0s 2ms/step - loss: 0.5540 - accuracy: 0.6200\n",
      "Epoch 30/50\n",
      "10/10 [==============================] - 0s 1ms/step - loss: 0.5526 - accuracy: 0.6200\n",
      "Epoch 31/50\n",
      "10/10 [==============================] - 0s 2ms/step - loss: 0.5510 - accuracy: 0.6400\n",
      "Epoch 32/50\n",
      "10/10 [==============================] - 0s 1ms/step - loss: 0.5497 - accuracy: 0.6400\n",
      "Epoch 33/50\n",
      "10/10 [==============================] - 0s 2ms/step - loss: 0.5481 - accuracy: 0.6400\n",
      "Epoch 34/50\n",
      "10/10 [==============================] - 0s 2ms/step - loss: 0.5468 - accuracy: 0.6400\n",
      "Epoch 35/50\n",
      "10/10 [==============================] - 0s 2ms/step - loss: 0.5451 - accuracy: 0.6400\n",
      "Epoch 36/50\n",
      "10/10 [==============================] - 0s 2ms/step - loss: 0.5437 - accuracy: 0.6500\n",
      "Epoch 37/50\n",
      "10/10 [==============================] - 0s 1ms/step - loss: 0.5422 - accuracy: 0.6600\n",
      "Epoch 38/50\n",
      "10/10 [==============================] - 0s 2ms/step - loss: 0.5408 - accuracy: 0.6600\n",
      "Epoch 39/50\n",
      "10/10 [==============================] - 0s 1ms/step - loss: 0.5393 - accuracy: 0.6600\n",
      "Epoch 40/50\n",
      "10/10 [==============================] - 0s 2ms/step - loss: 0.5378 - accuracy: 0.6600\n",
      "Epoch 41/50\n",
      "10/10 [==============================] - 0s 2ms/step - loss: 0.5363 - accuracy: 0.6600\n",
      "Epoch 42/50\n",
      "10/10 [==============================] - 0s 2ms/step - loss: 0.5349 - accuracy: 0.6600\n",
      "Epoch 43/50\n",
      "10/10 [==============================] - 0s 1ms/step - loss: 0.5335 - accuracy: 0.6800\n",
      "Epoch 44/50\n",
      "10/10 [==============================] - 0s 2ms/step - loss: 0.5321 - accuracy: 0.6800\n",
      "Epoch 45/50\n",
      "10/10 [==============================] - 0s 2ms/step - loss: 0.5307 - accuracy: 0.6800\n",
      "Epoch 46/50\n",
      "10/10 [==============================] - 0s 3ms/step - loss: 0.5292 - accuracy: 0.6800\n",
      "Epoch 47/50\n",
      "10/10 [==============================] - 0s 2ms/step - loss: 0.5277 - accuracy: 0.6800\n",
      "Epoch 48/50\n",
      "10/10 [==============================] - 0s 2ms/step - loss: 0.5263 - accuracy: 0.6900\n",
      "Epoch 49/50\n",
      "10/10 [==============================] - 0s 2ms/step - loss: 0.5250 - accuracy: 0.6900\n",
      "Epoch 50/50\n",
      "10/10 [==============================] - 0s 2ms/step - loss: 0.5236 - accuracy: 0.6900\n"
     ]
    },
    {
     "data": {
      "text/plain": [
       "<keras.src.callbacks.History at 0x1d820f33c70>"
      ]
     },
     "execution_count": 7,
     "metadata": {},
     "output_type": "execute_result"
    }
   ],
   "source": [
    "model.fit(hours_studied, pass_fail, epochs=50, batch_size=10)"
   ]
  },
  {
   "cell_type": "code",
   "execution_count": 10,
   "id": "588ab57e-42e7-4fe2-b575-0a1609e46b5a",
   "metadata": {},
   "outputs": [
    {
     "name": "stdout",
     "output_type": "stream",
     "text": [
      "1/1 [==============================] - 0s 24ms/step\n"
     ]
    },
    {
     "data": {
      "text/plain": [
       "array([[0.7819375 ],\n",
       "       [0.47248092],\n",
       "       [0.8571224 ]], dtype=float32)"
      ]
     },
     "execution_count": 10,
     "metadata": {},
     "output_type": "execute_result"
    }
   ],
   "source": [
    "new_hours_studied = np.array([[7.5], [1.3], [9.8]])\n",
    "predictions = model.predict(new_hours_studied)\n",
    "predictions"
   ]
  },
  {
   "cell_type": "code",
   "execution_count": 11,
   "id": "64837075-eee1-4090-bb64-61c9c60edb0f",
   "metadata": {
    "scrolled": true
   },
   "outputs": [
    {
     "name": "stdout",
     "output_type": "stream",
     "text": [
      "Hours studied: 7.5, Predicted pass (1) or fail (0): 1\n",
      "Hours studied: 1.3, Predicted pass (1) or fail (0): 0\n",
      "Hours studied: 9.8, Predicted pass (1) or fail (0): 1\n"
     ]
    }
   ],
   "source": [
    "for i in range(len(new_hours_studied)):\n",
    "    print(f\"Hours studied: {new_hours_studied[i][0]}, Predicted pass (1) or fail (0): {round(predictions[i][0])}\")"
   ]
  }
 ],
 "metadata": {
  "kernelspec": {
   "display_name": "Python 3 (ipykernel)",
   "language": "python",
   "name": "python3"
  },
  "language_info": {
   "codemirror_mode": {
    "name": "ipython",
    "version": 3
   },
   "file_extension": ".py",
   "mimetype": "text/x-python",
   "name": "python",
   "nbconvert_exporter": "python",
   "pygments_lexer": "ipython3",
   "version": "3.10.9"
  }
 },
 "nbformat": 4,
 "nbformat_minor": 5
}
